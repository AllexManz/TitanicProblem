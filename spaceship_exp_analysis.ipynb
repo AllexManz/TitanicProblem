{
 "cells": [
  {
   "cell_type": "code",
   "execution_count": 230,
   "metadata": {
    "collapsed": true
   },
   "outputs": [],
   "source": [
    "from sklearn.ensemble import GradientBoostingClassifier\n",
    "from sklearn import metrics\n",
    "from sklearn.neighbors import KNeighborsClassifier\n",
    "from sklearn.tree import DecisionTreeClassifier\n",
    "from sklearn.tree import DecisionTreeRegressor\n",
    "from sklearn.preprocessing import LabelEncoder\n",
    "from sklearn.impute import SimpleImputer\n",
    "import seaborn as sns\n",
    "import pandas as pd\n",
    "import numpy as np\n",
    "import warnings\n",
    "\n",
    "warnings.simplefilter('ignore')\n",
    "%matplotlib inline"
   ]
  },
  {
   "cell_type": "code",
   "execution_count": 231,
   "outputs": [
    {
     "data": {
      "text/plain": "     PassengerId HomePlanet CryoSleep    Destination   Age    VIP  \\\n0        0001_01     Europa     False    TRAPPIST-1e  39.0  False   \n1        0002_01      Earth     False    TRAPPIST-1e  24.0  False   \n2        0003_01     Europa     False    TRAPPIST-1e  58.0   True   \n3        0003_02     Europa     False    TRAPPIST-1e  33.0  False   \n4        0004_01      Earth     False    TRAPPIST-1e  16.0  False   \n...          ...        ...       ...            ...   ...    ...   \n8688     9276_01     Europa     False    55 Cancri e  41.0   True   \n8689     9278_01      Earth      True  PSO J318.5-22  18.0  False   \n8690     9279_01      Earth     False    TRAPPIST-1e  26.0  False   \n8691     9280_01     Europa     False    55 Cancri e  32.0  False   \n8692     9280_02     Europa     False    TRAPPIST-1e  44.0  False   \n\n      RoomService  FoodCourt  ShoppingMall     Spa  VRDeck               Name  \\\n0             0.0        0.0           0.0     0.0     0.0    Maham Ofracculy   \n1           109.0        9.0          25.0   549.0    44.0       Juanna Vines   \n2            43.0     3576.0           0.0  6715.0    49.0      Altark Susent   \n3             0.0     1283.0         371.0  3329.0   193.0       Solam Susent   \n4           303.0       70.0         151.0   565.0     2.0  Willy Santantines   \n...           ...        ...           ...     ...     ...                ...   \n8688          0.0     6819.0           0.0  1643.0    74.0  Gravior Noxnuther   \n8689          0.0        0.0           0.0     0.0     0.0    Kurta Mondalley   \n8690          0.0        0.0        1872.0     1.0     0.0       Fayey Connon   \n8691          0.0     1049.0           0.0   353.0  3235.0   Celeon Hontichre   \n8692        126.0     4688.0           0.0     0.0    12.0   Propsh Hontichre   \n\n      Transported Cab1  Cab2 Cab3  \n0           False    B   0.0    P  \n1            True    F   0.0    S  \n2           False    A   0.0    S  \n3           False    A   0.0    S  \n4            True    F   1.0    S  \n...           ...  ...   ...  ...  \n8688        False  NaN   NaN  NaN  \n8689        False  NaN   NaN  NaN  \n8690         True  NaN   NaN  NaN  \n8691        False  NaN   NaN  NaN  \n8692         True  NaN   NaN  NaN  \n\n[8693 rows x 16 columns]",
      "text/html": "<div>\n<style scoped>\n    .dataframe tbody tr th:only-of-type {\n        vertical-align: middle;\n    }\n\n    .dataframe tbody tr th {\n        vertical-align: top;\n    }\n\n    .dataframe thead th {\n        text-align: right;\n    }\n</style>\n<table border=\"1\" class=\"dataframe\">\n  <thead>\n    <tr style=\"text-align: right;\">\n      <th></th>\n      <th>PassengerId</th>\n      <th>HomePlanet</th>\n      <th>CryoSleep</th>\n      <th>Destination</th>\n      <th>Age</th>\n      <th>VIP</th>\n      <th>RoomService</th>\n      <th>FoodCourt</th>\n      <th>ShoppingMall</th>\n      <th>Spa</th>\n      <th>VRDeck</th>\n      <th>Name</th>\n      <th>Transported</th>\n      <th>Cab1</th>\n      <th>Cab2</th>\n      <th>Cab3</th>\n    </tr>\n  </thead>\n  <tbody>\n    <tr>\n      <th>0</th>\n      <td>0001_01</td>\n      <td>Europa</td>\n      <td>False</td>\n      <td>TRAPPIST-1e</td>\n      <td>39.0</td>\n      <td>False</td>\n      <td>0.0</td>\n      <td>0.0</td>\n      <td>0.0</td>\n      <td>0.0</td>\n      <td>0.0</td>\n      <td>Maham Ofracculy</td>\n      <td>False</td>\n      <td>B</td>\n      <td>0.0</td>\n      <td>P</td>\n    </tr>\n    <tr>\n      <th>1</th>\n      <td>0002_01</td>\n      <td>Earth</td>\n      <td>False</td>\n      <td>TRAPPIST-1e</td>\n      <td>24.0</td>\n      <td>False</td>\n      <td>109.0</td>\n      <td>9.0</td>\n      <td>25.0</td>\n      <td>549.0</td>\n      <td>44.0</td>\n      <td>Juanna Vines</td>\n      <td>True</td>\n      <td>F</td>\n      <td>0.0</td>\n      <td>S</td>\n    </tr>\n    <tr>\n      <th>2</th>\n      <td>0003_01</td>\n      <td>Europa</td>\n      <td>False</td>\n      <td>TRAPPIST-1e</td>\n      <td>58.0</td>\n      <td>True</td>\n      <td>43.0</td>\n      <td>3576.0</td>\n      <td>0.0</td>\n      <td>6715.0</td>\n      <td>49.0</td>\n      <td>Altark Susent</td>\n      <td>False</td>\n      <td>A</td>\n      <td>0.0</td>\n      <td>S</td>\n    </tr>\n    <tr>\n      <th>3</th>\n      <td>0003_02</td>\n      <td>Europa</td>\n      <td>False</td>\n      <td>TRAPPIST-1e</td>\n      <td>33.0</td>\n      <td>False</td>\n      <td>0.0</td>\n      <td>1283.0</td>\n      <td>371.0</td>\n      <td>3329.0</td>\n      <td>193.0</td>\n      <td>Solam Susent</td>\n      <td>False</td>\n      <td>A</td>\n      <td>0.0</td>\n      <td>S</td>\n    </tr>\n    <tr>\n      <th>4</th>\n      <td>0004_01</td>\n      <td>Earth</td>\n      <td>False</td>\n      <td>TRAPPIST-1e</td>\n      <td>16.0</td>\n      <td>False</td>\n      <td>303.0</td>\n      <td>70.0</td>\n      <td>151.0</td>\n      <td>565.0</td>\n      <td>2.0</td>\n      <td>Willy Santantines</td>\n      <td>True</td>\n      <td>F</td>\n      <td>1.0</td>\n      <td>S</td>\n    </tr>\n    <tr>\n      <th>...</th>\n      <td>...</td>\n      <td>...</td>\n      <td>...</td>\n      <td>...</td>\n      <td>...</td>\n      <td>...</td>\n      <td>...</td>\n      <td>...</td>\n      <td>...</td>\n      <td>...</td>\n      <td>...</td>\n      <td>...</td>\n      <td>...</td>\n      <td>...</td>\n      <td>...</td>\n      <td>...</td>\n    </tr>\n    <tr>\n      <th>8688</th>\n      <td>9276_01</td>\n      <td>Europa</td>\n      <td>False</td>\n      <td>55 Cancri e</td>\n      <td>41.0</td>\n      <td>True</td>\n      <td>0.0</td>\n      <td>6819.0</td>\n      <td>0.0</td>\n      <td>1643.0</td>\n      <td>74.0</td>\n      <td>Gravior Noxnuther</td>\n      <td>False</td>\n      <td>NaN</td>\n      <td>NaN</td>\n      <td>NaN</td>\n    </tr>\n    <tr>\n      <th>8689</th>\n      <td>9278_01</td>\n      <td>Earth</td>\n      <td>True</td>\n      <td>PSO J318.5-22</td>\n      <td>18.0</td>\n      <td>False</td>\n      <td>0.0</td>\n      <td>0.0</td>\n      <td>0.0</td>\n      <td>0.0</td>\n      <td>0.0</td>\n      <td>Kurta Mondalley</td>\n      <td>False</td>\n      <td>NaN</td>\n      <td>NaN</td>\n      <td>NaN</td>\n    </tr>\n    <tr>\n      <th>8690</th>\n      <td>9279_01</td>\n      <td>Earth</td>\n      <td>False</td>\n      <td>TRAPPIST-1e</td>\n      <td>26.0</td>\n      <td>False</td>\n      <td>0.0</td>\n      <td>0.0</td>\n      <td>1872.0</td>\n      <td>1.0</td>\n      <td>0.0</td>\n      <td>Fayey Connon</td>\n      <td>True</td>\n      <td>NaN</td>\n      <td>NaN</td>\n      <td>NaN</td>\n    </tr>\n    <tr>\n      <th>8691</th>\n      <td>9280_01</td>\n      <td>Europa</td>\n      <td>False</td>\n      <td>55 Cancri e</td>\n      <td>32.0</td>\n      <td>False</td>\n      <td>0.0</td>\n      <td>1049.0</td>\n      <td>0.0</td>\n      <td>353.0</td>\n      <td>3235.0</td>\n      <td>Celeon Hontichre</td>\n      <td>False</td>\n      <td>NaN</td>\n      <td>NaN</td>\n      <td>NaN</td>\n    </tr>\n    <tr>\n      <th>8692</th>\n      <td>9280_02</td>\n      <td>Europa</td>\n      <td>False</td>\n      <td>TRAPPIST-1e</td>\n      <td>44.0</td>\n      <td>False</td>\n      <td>126.0</td>\n      <td>4688.0</td>\n      <td>0.0</td>\n      <td>0.0</td>\n      <td>12.0</td>\n      <td>Propsh Hontichre</td>\n      <td>True</td>\n      <td>NaN</td>\n      <td>NaN</td>\n      <td>NaN</td>\n    </tr>\n  </tbody>\n</table>\n<p>8693 rows × 16 columns</p>\n</div>"
     },
     "execution_count": 231,
     "metadata": {},
     "output_type": "execute_result"
    }
   ],
   "source": [
    "# df = pd.read_csv('datasets/spaceship/train.csv')\n",
    "df = pd.read_csv('datasets/spaceship/temp/cabin.csv')\n",
    "test_df = pd.read_csv('datasets/spaceship/temp/test_cabin.csv')\n",
    "df = df.drop(columns=['Unnamed: 0'])\n",
    "test_df = test_df.drop(columns=['Unnamed: 0'])\n",
    "df"
   ],
   "metadata": {
    "collapsed": false
   }
  },
  {
   "cell_type": "markdown",
   "source": [
    "## Converting bool objects into int64"
   ],
   "metadata": {
    "collapsed": false
   }
  },
  {
   "cell_type": "code",
   "execution_count": 232,
   "outputs": [],
   "source": [
    "df['Transported'] = df['Transported'].map({True: 1, False: 0})\n",
    "df['CryoSleep'] = df['CryoSleep'].map({True: 1, False: 0})\n",
    "df['VIP'] = df['VIP'].map({True: 1, False: 0})"
   ],
   "metadata": {
    "collapsed": false
   }
  },
  {
   "cell_type": "code",
   "execution_count": 233,
   "outputs": [
    {
     "data": {
      "text/plain": "         CryoSleep          Age          VIP   RoomService     FoodCourt  \\\ncount  8476.000000  8514.000000  8490.000000   8512.000000   8510.000000   \nmean      0.358306    28.827930     0.023439    224.687617    458.077203   \nstd       0.479531    14.489021     0.151303    666.717663   1611.489240   \nmin       0.000000     0.000000     0.000000      0.000000      0.000000   \n25%       0.000000    19.000000     0.000000      0.000000      0.000000   \n50%       0.000000    27.000000     0.000000      0.000000      0.000000   \n75%       1.000000    38.000000     0.000000     47.000000     76.000000   \nmax       1.000000    79.000000     1.000000  14327.000000  29813.000000   \n\n       ShoppingMall           Spa        VRDeck  Transported         Cab2  \ncount   8485.000000   8510.000000   8505.000000  8693.000000  8494.000000  \nmean     173.729169    311.138778    304.854791     0.503624   600.367671  \nstd      604.696458   1136.705535   1145.717189     0.500016   511.867226  \nmin        0.000000      0.000000      0.000000     0.000000     0.000000  \n25%        0.000000      0.000000      0.000000     0.000000   167.250000  \n50%        0.000000      0.000000      0.000000     1.000000   427.000000  \n75%       27.000000     59.000000     46.000000     1.000000   999.000000  \nmax    23492.000000  22408.000000  24133.000000     1.000000  1894.000000  ",
      "text/html": "<div>\n<style scoped>\n    .dataframe tbody tr th:only-of-type {\n        vertical-align: middle;\n    }\n\n    .dataframe tbody tr th {\n        vertical-align: top;\n    }\n\n    .dataframe thead th {\n        text-align: right;\n    }\n</style>\n<table border=\"1\" class=\"dataframe\">\n  <thead>\n    <tr style=\"text-align: right;\">\n      <th></th>\n      <th>CryoSleep</th>\n      <th>Age</th>\n      <th>VIP</th>\n      <th>RoomService</th>\n      <th>FoodCourt</th>\n      <th>ShoppingMall</th>\n      <th>Spa</th>\n      <th>VRDeck</th>\n      <th>Transported</th>\n      <th>Cab2</th>\n    </tr>\n  </thead>\n  <tbody>\n    <tr>\n      <th>count</th>\n      <td>8476.000000</td>\n      <td>8514.000000</td>\n      <td>8490.000000</td>\n      <td>8512.000000</td>\n      <td>8510.000000</td>\n      <td>8485.000000</td>\n      <td>8510.000000</td>\n      <td>8505.000000</td>\n      <td>8693.000000</td>\n      <td>8494.000000</td>\n    </tr>\n    <tr>\n      <th>mean</th>\n      <td>0.358306</td>\n      <td>28.827930</td>\n      <td>0.023439</td>\n      <td>224.687617</td>\n      <td>458.077203</td>\n      <td>173.729169</td>\n      <td>311.138778</td>\n      <td>304.854791</td>\n      <td>0.503624</td>\n      <td>600.367671</td>\n    </tr>\n    <tr>\n      <th>std</th>\n      <td>0.479531</td>\n      <td>14.489021</td>\n      <td>0.151303</td>\n      <td>666.717663</td>\n      <td>1611.489240</td>\n      <td>604.696458</td>\n      <td>1136.705535</td>\n      <td>1145.717189</td>\n      <td>0.500016</td>\n      <td>511.867226</td>\n    </tr>\n    <tr>\n      <th>min</th>\n      <td>0.000000</td>\n      <td>0.000000</td>\n      <td>0.000000</td>\n      <td>0.000000</td>\n      <td>0.000000</td>\n      <td>0.000000</td>\n      <td>0.000000</td>\n      <td>0.000000</td>\n      <td>0.000000</td>\n      <td>0.000000</td>\n    </tr>\n    <tr>\n      <th>25%</th>\n      <td>0.000000</td>\n      <td>19.000000</td>\n      <td>0.000000</td>\n      <td>0.000000</td>\n      <td>0.000000</td>\n      <td>0.000000</td>\n      <td>0.000000</td>\n      <td>0.000000</td>\n      <td>0.000000</td>\n      <td>167.250000</td>\n    </tr>\n    <tr>\n      <th>50%</th>\n      <td>0.000000</td>\n      <td>27.000000</td>\n      <td>0.000000</td>\n      <td>0.000000</td>\n      <td>0.000000</td>\n      <td>0.000000</td>\n      <td>0.000000</td>\n      <td>0.000000</td>\n      <td>1.000000</td>\n      <td>427.000000</td>\n    </tr>\n    <tr>\n      <th>75%</th>\n      <td>1.000000</td>\n      <td>38.000000</td>\n      <td>0.000000</td>\n      <td>47.000000</td>\n      <td>76.000000</td>\n      <td>27.000000</td>\n      <td>59.000000</td>\n      <td>46.000000</td>\n      <td>1.000000</td>\n      <td>999.000000</td>\n    </tr>\n    <tr>\n      <th>max</th>\n      <td>1.000000</td>\n      <td>79.000000</td>\n      <td>1.000000</td>\n      <td>14327.000000</td>\n      <td>29813.000000</td>\n      <td>23492.000000</td>\n      <td>22408.000000</td>\n      <td>24133.000000</td>\n      <td>1.000000</td>\n      <td>1894.000000</td>\n    </tr>\n  </tbody>\n</table>\n</div>"
     },
     "execution_count": 233,
     "metadata": {},
     "output_type": "execute_result"
    }
   ],
   "source": [
    "df.describe()"
   ],
   "metadata": {
    "collapsed": false
   }
  },
  {
   "cell_type": "code",
   "execution_count": 234,
   "outputs": [
    {
     "name": "stdout",
     "output_type": "stream",
     "text": [
      "<class 'pandas.core.frame.DataFrame'>\n",
      "RangeIndex: 8693 entries, 0 to 8692\n",
      "Data columns (total 16 columns):\n",
      " #   Column        Non-Null Count  Dtype  \n",
      "---  ------        --------------  -----  \n",
      " 0   PassengerId   8693 non-null   object \n",
      " 1   HomePlanet    8492 non-null   object \n",
      " 2   CryoSleep     8476 non-null   float64\n",
      " 3   Destination   8511 non-null   object \n",
      " 4   Age           8514 non-null   float64\n",
      " 5   VIP           8490 non-null   float64\n",
      " 6   RoomService   8512 non-null   float64\n",
      " 7   FoodCourt     8510 non-null   float64\n",
      " 8   ShoppingMall  8485 non-null   float64\n",
      " 9   Spa           8510 non-null   float64\n",
      " 10  VRDeck        8505 non-null   float64\n",
      " 11  Name          8493 non-null   object \n",
      " 12  Transported   8693 non-null   int64  \n",
      " 13  Cab1          8494 non-null   object \n",
      " 14  Cab2          8494 non-null   float64\n",
      " 15  Cab3          8494 non-null   object \n",
      "dtypes: float64(9), int64(1), object(6)\n",
      "memory usage: 1.1+ MB\n"
     ]
    }
   ],
   "source": [
    "df.info();"
   ],
   "metadata": {
    "collapsed": false
   }
  },
  {
   "cell_type": "markdown",
   "source": [
    "## Dispose of useless columns"
   ],
   "metadata": {
    "collapsed": false
   }
  },
  {
   "cell_type": "code",
   "execution_count": 235,
   "outputs": [
    {
     "data": {
      "text/plain": "     HomePlanet  CryoSleep    Destination   Age  VIP  RoomService  FoodCourt  \\\n0        Europa        0.0    TRAPPIST-1e  39.0  0.0          0.0        0.0   \n1         Earth        0.0    TRAPPIST-1e  24.0  0.0        109.0        9.0   \n2        Europa        0.0    TRAPPIST-1e  58.0  1.0         43.0     3576.0   \n3        Europa        0.0    TRAPPIST-1e  33.0  0.0          0.0     1283.0   \n4         Earth        0.0    TRAPPIST-1e  16.0  0.0        303.0       70.0   \n...         ...        ...            ...   ...  ...          ...        ...   \n8688     Europa        0.0    55 Cancri e  41.0  1.0          0.0     6819.0   \n8689      Earth        1.0  PSO J318.5-22  18.0  0.0          0.0        0.0   \n8690      Earth        0.0    TRAPPIST-1e  26.0  0.0          0.0        0.0   \n8691     Europa        0.0    55 Cancri e  32.0  0.0          0.0     1049.0   \n8692     Europa        0.0    TRAPPIST-1e  44.0  0.0        126.0     4688.0   \n\n      ShoppingMall     Spa  VRDeck Cab1  Cab2 Cab3  \n0              0.0     0.0     0.0    B   0.0    P  \n1             25.0   549.0    44.0    F   0.0    S  \n2              0.0  6715.0    49.0    A   0.0    S  \n3            371.0  3329.0   193.0    A   0.0    S  \n4            151.0   565.0     2.0    F   1.0    S  \n...            ...     ...     ...  ...   ...  ...  \n8688           0.0  1643.0    74.0  NaN   NaN  NaN  \n8689           0.0     0.0     0.0  NaN   NaN  NaN  \n8690        1872.0     1.0     0.0  NaN   NaN  NaN  \n8691           0.0   353.0  3235.0  NaN   NaN  NaN  \n8692           0.0     0.0    12.0  NaN   NaN  NaN  \n\n[8693 rows x 13 columns]",
      "text/html": "<div>\n<style scoped>\n    .dataframe tbody tr th:only-of-type {\n        vertical-align: middle;\n    }\n\n    .dataframe tbody tr th {\n        vertical-align: top;\n    }\n\n    .dataframe thead th {\n        text-align: right;\n    }\n</style>\n<table border=\"1\" class=\"dataframe\">\n  <thead>\n    <tr style=\"text-align: right;\">\n      <th></th>\n      <th>HomePlanet</th>\n      <th>CryoSleep</th>\n      <th>Destination</th>\n      <th>Age</th>\n      <th>VIP</th>\n      <th>RoomService</th>\n      <th>FoodCourt</th>\n      <th>ShoppingMall</th>\n      <th>Spa</th>\n      <th>VRDeck</th>\n      <th>Cab1</th>\n      <th>Cab2</th>\n      <th>Cab3</th>\n    </tr>\n  </thead>\n  <tbody>\n    <tr>\n      <th>0</th>\n      <td>Europa</td>\n      <td>0.0</td>\n      <td>TRAPPIST-1e</td>\n      <td>39.0</td>\n      <td>0.0</td>\n      <td>0.0</td>\n      <td>0.0</td>\n      <td>0.0</td>\n      <td>0.0</td>\n      <td>0.0</td>\n      <td>B</td>\n      <td>0.0</td>\n      <td>P</td>\n    </tr>\n    <tr>\n      <th>1</th>\n      <td>Earth</td>\n      <td>0.0</td>\n      <td>TRAPPIST-1e</td>\n      <td>24.0</td>\n      <td>0.0</td>\n      <td>109.0</td>\n      <td>9.0</td>\n      <td>25.0</td>\n      <td>549.0</td>\n      <td>44.0</td>\n      <td>F</td>\n      <td>0.0</td>\n      <td>S</td>\n    </tr>\n    <tr>\n      <th>2</th>\n      <td>Europa</td>\n      <td>0.0</td>\n      <td>TRAPPIST-1e</td>\n      <td>58.0</td>\n      <td>1.0</td>\n      <td>43.0</td>\n      <td>3576.0</td>\n      <td>0.0</td>\n      <td>6715.0</td>\n      <td>49.0</td>\n      <td>A</td>\n      <td>0.0</td>\n      <td>S</td>\n    </tr>\n    <tr>\n      <th>3</th>\n      <td>Europa</td>\n      <td>0.0</td>\n      <td>TRAPPIST-1e</td>\n      <td>33.0</td>\n      <td>0.0</td>\n      <td>0.0</td>\n      <td>1283.0</td>\n      <td>371.0</td>\n      <td>3329.0</td>\n      <td>193.0</td>\n      <td>A</td>\n      <td>0.0</td>\n      <td>S</td>\n    </tr>\n    <tr>\n      <th>4</th>\n      <td>Earth</td>\n      <td>0.0</td>\n      <td>TRAPPIST-1e</td>\n      <td>16.0</td>\n      <td>0.0</td>\n      <td>303.0</td>\n      <td>70.0</td>\n      <td>151.0</td>\n      <td>565.0</td>\n      <td>2.0</td>\n      <td>F</td>\n      <td>1.0</td>\n      <td>S</td>\n    </tr>\n    <tr>\n      <th>...</th>\n      <td>...</td>\n      <td>...</td>\n      <td>...</td>\n      <td>...</td>\n      <td>...</td>\n      <td>...</td>\n      <td>...</td>\n      <td>...</td>\n      <td>...</td>\n      <td>...</td>\n      <td>...</td>\n      <td>...</td>\n      <td>...</td>\n    </tr>\n    <tr>\n      <th>8688</th>\n      <td>Europa</td>\n      <td>0.0</td>\n      <td>55 Cancri e</td>\n      <td>41.0</td>\n      <td>1.0</td>\n      <td>0.0</td>\n      <td>6819.0</td>\n      <td>0.0</td>\n      <td>1643.0</td>\n      <td>74.0</td>\n      <td>NaN</td>\n      <td>NaN</td>\n      <td>NaN</td>\n    </tr>\n    <tr>\n      <th>8689</th>\n      <td>Earth</td>\n      <td>1.0</td>\n      <td>PSO J318.5-22</td>\n      <td>18.0</td>\n      <td>0.0</td>\n      <td>0.0</td>\n      <td>0.0</td>\n      <td>0.0</td>\n      <td>0.0</td>\n      <td>0.0</td>\n      <td>NaN</td>\n      <td>NaN</td>\n      <td>NaN</td>\n    </tr>\n    <tr>\n      <th>8690</th>\n      <td>Earth</td>\n      <td>0.0</td>\n      <td>TRAPPIST-1e</td>\n      <td>26.0</td>\n      <td>0.0</td>\n      <td>0.0</td>\n      <td>0.0</td>\n      <td>1872.0</td>\n      <td>1.0</td>\n      <td>0.0</td>\n      <td>NaN</td>\n      <td>NaN</td>\n      <td>NaN</td>\n    </tr>\n    <tr>\n      <th>8691</th>\n      <td>Europa</td>\n      <td>0.0</td>\n      <td>55 Cancri e</td>\n      <td>32.0</td>\n      <td>0.0</td>\n      <td>0.0</td>\n      <td>1049.0</td>\n      <td>0.0</td>\n      <td>353.0</td>\n      <td>3235.0</td>\n      <td>NaN</td>\n      <td>NaN</td>\n      <td>NaN</td>\n    </tr>\n    <tr>\n      <th>8692</th>\n      <td>Europa</td>\n      <td>0.0</td>\n      <td>TRAPPIST-1e</td>\n      <td>44.0</td>\n      <td>0.0</td>\n      <td>126.0</td>\n      <td>4688.0</td>\n      <td>0.0</td>\n      <td>0.0</td>\n      <td>12.0</td>\n      <td>NaN</td>\n      <td>NaN</td>\n      <td>NaN</td>\n    </tr>\n  </tbody>\n</table>\n<p>8693 rows × 13 columns</p>\n</div>"
     },
     "execution_count": 235,
     "metadata": {},
     "output_type": "execute_result"
    }
   ],
   "source": [
    "# train_df = df.drop(columns=['PassengerId', 'FoodCourt', 'ShoppingMall', 'Spa',\n",
    "#                             'Name', 'Transported', 'RoomService', 'VRDeck', 'Cabin'])\n",
    "train_df = df.drop(columns=['PassengerId', 'Name', 'Transported'])\n",
    "answers = df['Transported']\n",
    "train_df"
   ],
   "metadata": {
    "collapsed": false
   }
  },
  {
   "cell_type": "markdown",
   "source": [
    "## Encoding object values"
   ],
   "metadata": {
    "collapsed": false
   }
  },
  {
   "cell_type": "code",
   "execution_count": 236,
   "outputs": [],
   "source": [
    "label_encoder = LabelEncoder()\n",
    "train_df['HomePlanet'] = label_encoder.fit_transform(train_df['HomePlanet'])\n",
    "train_df['Destination'] = label_encoder.fit_transform(train_df['Destination'])\n",
    "train_df['Cab1'] = label_encoder.fit_transform(train_df['Cab1'])\n",
    "train_df['Cab2'] = label_encoder.fit_transform(train_df['Cab2'])\n",
    "train_df['Cab3'] = label_encoder.fit_transform(train_df['Cab3'])"
   ],
   "metadata": {
    "collapsed": false
   }
  },
  {
   "cell_type": "code",
   "execution_count": 237,
   "outputs": [
    {
     "name": "stdout",
     "output_type": "stream",
     "text": [
      "<class 'pandas.core.frame.DataFrame'>\n",
      "RangeIndex: 8693 entries, 0 to 8692\n",
      "Data columns (total 13 columns):\n",
      " #   Column        Non-Null Count  Dtype  \n",
      "---  ------        --------------  -----  \n",
      " 0   HomePlanet    8693 non-null   int64  \n",
      " 1   CryoSleep     8476 non-null   float64\n",
      " 2   Destination   8693 non-null   int64  \n",
      " 3   Age           8514 non-null   float64\n",
      " 4   VIP           8490 non-null   float64\n",
      " 5   RoomService   8512 non-null   float64\n",
      " 6   FoodCourt     8510 non-null   float64\n",
      " 7   ShoppingMall  8485 non-null   float64\n",
      " 8   Spa           8510 non-null   float64\n",
      " 9   VRDeck        8505 non-null   float64\n",
      " 10  Cab1          8693 non-null   int64  \n",
      " 11  Cab2          8693 non-null   int64  \n",
      " 12  Cab3          8693 non-null   int64  \n",
      "dtypes: float64(8), int64(5)\n",
      "memory usage: 883.0 KB\n"
     ]
    }
   ],
   "source": [
    "train_df.info()"
   ],
   "metadata": {
    "collapsed": false
   }
  },
  {
   "cell_type": "code",
   "execution_count": 238,
   "outputs": [
    {
     "data": {
      "text/plain": "      HomePlanet  CryoSleep  Destination   Age  VIP  RoomService  FoodCourt  \\\n0              1        0.0            2  39.0  0.0          0.0        0.0   \n1              0        0.0            2  24.0  0.0        109.0        9.0   \n2              1        0.0            2  58.0  1.0         43.0     3576.0   \n3              1        0.0            2  33.0  0.0          0.0     1283.0   \n4              0        0.0            2  16.0  0.0        303.0       70.0   \n...          ...        ...          ...   ...  ...          ...        ...   \n8688           1        0.0            0  41.0  1.0          0.0     6819.0   \n8689           0        1.0            1  18.0  0.0          0.0        0.0   \n8690           0        0.0            2  26.0  0.0          0.0        0.0   \n8691           1        0.0            0  32.0  0.0          0.0     1049.0   \n8692           1        0.0            2  44.0  0.0        126.0     4688.0   \n\n      ShoppingMall     Spa  VRDeck  Cab1  Cab2  Cab3  \n0              0.0     0.0     0.0     1     0     0  \n1             25.0   549.0    44.0     5     0     1  \n2              0.0  6715.0    49.0     0     0     1  \n3            371.0  3329.0   193.0     0     0     1  \n4            151.0   565.0     2.0     5     1     1  \n...            ...     ...     ...   ...   ...   ...  \n8688           0.0  1643.0    74.0     8  1817     2  \n8689           0.0     0.0     0.0     8  1817     2  \n8690        1872.0     1.0     0.0     8  1817     2  \n8691           0.0   353.0  3235.0     8  1817     2  \n8692           0.0     0.0    12.0     8  1817     2  \n\n[8693 rows x 13 columns]",
      "text/html": "<div>\n<style scoped>\n    .dataframe tbody tr th:only-of-type {\n        vertical-align: middle;\n    }\n\n    .dataframe tbody tr th {\n        vertical-align: top;\n    }\n\n    .dataframe thead th {\n        text-align: right;\n    }\n</style>\n<table border=\"1\" class=\"dataframe\">\n  <thead>\n    <tr style=\"text-align: right;\">\n      <th></th>\n      <th>HomePlanet</th>\n      <th>CryoSleep</th>\n      <th>Destination</th>\n      <th>Age</th>\n      <th>VIP</th>\n      <th>RoomService</th>\n      <th>FoodCourt</th>\n      <th>ShoppingMall</th>\n      <th>Spa</th>\n      <th>VRDeck</th>\n      <th>Cab1</th>\n      <th>Cab2</th>\n      <th>Cab3</th>\n    </tr>\n  </thead>\n  <tbody>\n    <tr>\n      <th>0</th>\n      <td>1</td>\n      <td>0.0</td>\n      <td>2</td>\n      <td>39.0</td>\n      <td>0.0</td>\n      <td>0.0</td>\n      <td>0.0</td>\n      <td>0.0</td>\n      <td>0.0</td>\n      <td>0.0</td>\n      <td>1</td>\n      <td>0</td>\n      <td>0</td>\n    </tr>\n    <tr>\n      <th>1</th>\n      <td>0</td>\n      <td>0.0</td>\n      <td>2</td>\n      <td>24.0</td>\n      <td>0.0</td>\n      <td>109.0</td>\n      <td>9.0</td>\n      <td>25.0</td>\n      <td>549.0</td>\n      <td>44.0</td>\n      <td>5</td>\n      <td>0</td>\n      <td>1</td>\n    </tr>\n    <tr>\n      <th>2</th>\n      <td>1</td>\n      <td>0.0</td>\n      <td>2</td>\n      <td>58.0</td>\n      <td>1.0</td>\n      <td>43.0</td>\n      <td>3576.0</td>\n      <td>0.0</td>\n      <td>6715.0</td>\n      <td>49.0</td>\n      <td>0</td>\n      <td>0</td>\n      <td>1</td>\n    </tr>\n    <tr>\n      <th>3</th>\n      <td>1</td>\n      <td>0.0</td>\n      <td>2</td>\n      <td>33.0</td>\n      <td>0.0</td>\n      <td>0.0</td>\n      <td>1283.0</td>\n      <td>371.0</td>\n      <td>3329.0</td>\n      <td>193.0</td>\n      <td>0</td>\n      <td>0</td>\n      <td>1</td>\n    </tr>\n    <tr>\n      <th>4</th>\n      <td>0</td>\n      <td>0.0</td>\n      <td>2</td>\n      <td>16.0</td>\n      <td>0.0</td>\n      <td>303.0</td>\n      <td>70.0</td>\n      <td>151.0</td>\n      <td>565.0</td>\n      <td>2.0</td>\n      <td>5</td>\n      <td>1</td>\n      <td>1</td>\n    </tr>\n    <tr>\n      <th>...</th>\n      <td>...</td>\n      <td>...</td>\n      <td>...</td>\n      <td>...</td>\n      <td>...</td>\n      <td>...</td>\n      <td>...</td>\n      <td>...</td>\n      <td>...</td>\n      <td>...</td>\n      <td>...</td>\n      <td>...</td>\n      <td>...</td>\n    </tr>\n    <tr>\n      <th>8688</th>\n      <td>1</td>\n      <td>0.0</td>\n      <td>0</td>\n      <td>41.0</td>\n      <td>1.0</td>\n      <td>0.0</td>\n      <td>6819.0</td>\n      <td>0.0</td>\n      <td>1643.0</td>\n      <td>74.0</td>\n      <td>8</td>\n      <td>1817</td>\n      <td>2</td>\n    </tr>\n    <tr>\n      <th>8689</th>\n      <td>0</td>\n      <td>1.0</td>\n      <td>1</td>\n      <td>18.0</td>\n      <td>0.0</td>\n      <td>0.0</td>\n      <td>0.0</td>\n      <td>0.0</td>\n      <td>0.0</td>\n      <td>0.0</td>\n      <td>8</td>\n      <td>1817</td>\n      <td>2</td>\n    </tr>\n    <tr>\n      <th>8690</th>\n      <td>0</td>\n      <td>0.0</td>\n      <td>2</td>\n      <td>26.0</td>\n      <td>0.0</td>\n      <td>0.0</td>\n      <td>0.0</td>\n      <td>1872.0</td>\n      <td>1.0</td>\n      <td>0.0</td>\n      <td>8</td>\n      <td>1817</td>\n      <td>2</td>\n    </tr>\n    <tr>\n      <th>8691</th>\n      <td>1</td>\n      <td>0.0</td>\n      <td>0</td>\n      <td>32.0</td>\n      <td>0.0</td>\n      <td>0.0</td>\n      <td>1049.0</td>\n      <td>0.0</td>\n      <td>353.0</td>\n      <td>3235.0</td>\n      <td>8</td>\n      <td>1817</td>\n      <td>2</td>\n    </tr>\n    <tr>\n      <th>8692</th>\n      <td>1</td>\n      <td>0.0</td>\n      <td>2</td>\n      <td>44.0</td>\n      <td>0.0</td>\n      <td>126.0</td>\n      <td>4688.0</td>\n      <td>0.0</td>\n      <td>0.0</td>\n      <td>12.0</td>\n      <td>8</td>\n      <td>1817</td>\n      <td>2</td>\n    </tr>\n  </tbody>\n</table>\n<p>8693 rows × 13 columns</p>\n</div>"
     },
     "execution_count": 238,
     "metadata": {},
     "output_type": "execute_result"
    }
   ],
   "source": [
    "train_df"
   ],
   "metadata": {
    "collapsed": false
   }
  },
  {
   "cell_type": "markdown",
   "source": [
    "## Replacing NaN values using sklearn.SimpleImputer"
   ],
   "metadata": {
    "collapsed": false
   }
  },
  {
   "cell_type": "code",
   "execution_count": 239,
   "outputs": [],
   "source": [
    "# Saving column names\n",
    "names = list(train_df.columns)\n",
    "\n",
    "# Training imputing model\n",
    "imp_mean = SimpleImputer(strategy='mean')\n",
    "imp_mean.fit(train_df)\n",
    "\n",
    "# Replacing Nan values\n",
    "train_df = pd.DataFrame(imp_mean.transform(train_df))\n",
    "\n",
    "# Giving columns their names back\n",
    "train_df.columns = names\n",
    "train_df = train_df.join(answers)\n",
    "train_df.to_csv(path_or_buf='datasets/spaceship/temp/final.csv')"
   ],
   "metadata": {
    "collapsed": false
   }
  },
  {
   "cell_type": "code",
   "execution_count": 240,
   "outputs": [
    {
     "name": "stdout",
     "output_type": "stream",
     "text": [
      "<class 'pandas.core.frame.DataFrame'>\n",
      "RangeIndex: 8693 entries, 0 to 8692\n",
      "Data columns (total 14 columns):\n",
      " #   Column        Non-Null Count  Dtype  \n",
      "---  ------        --------------  -----  \n",
      " 0   HomePlanet    8693 non-null   float64\n",
      " 1   CryoSleep     8693 non-null   float64\n",
      " 2   Destination   8693 non-null   float64\n",
      " 3   Age           8693 non-null   float64\n",
      " 4   VIP           8693 non-null   float64\n",
      " 5   RoomService   8693 non-null   float64\n",
      " 6   FoodCourt     8693 non-null   float64\n",
      " 7   ShoppingMall  8693 non-null   float64\n",
      " 8   Spa           8693 non-null   float64\n",
      " 9   VRDeck        8693 non-null   float64\n",
      " 10  Cab1          8693 non-null   float64\n",
      " 11  Cab2          8693 non-null   float64\n",
      " 12  Cab3          8693 non-null   float64\n",
      " 13  Transported   8693 non-null   int64  \n",
      "dtypes: float64(13), int64(1)\n",
      "memory usage: 950.9 KB\n"
     ]
    }
   ],
   "source": [
    "train_df.info()"
   ],
   "metadata": {
    "collapsed": false
   }
  },
  {
   "cell_type": "markdown",
   "source": [
    "## Training DecisionTreeClassifier on our model"
   ],
   "metadata": {
    "collapsed": false
   }
  },
  {
   "cell_type": "code",
   "execution_count": 241,
   "outputs": [
    {
     "name": "stdout",
     "output_type": "stream",
     "text": [
      "Accuracy: 100.0%\n"
     ]
    }
   ],
   "source": [
    "clf_tree = DecisionTreeClassifier(criterion='entropy', max_depth=30, random_state=17)\n",
    "clf_tree.fit(train_df, answers)\n",
    "print(f\"Accuracy: {round(clf_tree.score(train_df, answers), 5) * 100}%\")"
   ],
   "metadata": {
    "collapsed": false
   }
  },
  {
   "cell_type": "code",
   "execution_count": 242,
   "outputs": [
    {
     "data": {
      "text/plain": "      Predicted  Transported\n0             0            0\n1             1            1\n2             0            0\n3             0            0\n4             1            1\n...         ...          ...\n8688          0            0\n8689          0            0\n8690          1            1\n8691          0            0\n8692          1            1\n\n[8693 rows x 2 columns]",
      "text/html": "<div>\n<style scoped>\n    .dataframe tbody tr th:only-of-type {\n        vertical-align: middle;\n    }\n\n    .dataframe tbody tr th {\n        vertical-align: top;\n    }\n\n    .dataframe thead th {\n        text-align: right;\n    }\n</style>\n<table border=\"1\" class=\"dataframe\">\n  <thead>\n    <tr style=\"text-align: right;\">\n      <th></th>\n      <th>Predicted</th>\n      <th>Transported</th>\n    </tr>\n  </thead>\n  <tbody>\n    <tr>\n      <th>0</th>\n      <td>0</td>\n      <td>0</td>\n    </tr>\n    <tr>\n      <th>1</th>\n      <td>1</td>\n      <td>1</td>\n    </tr>\n    <tr>\n      <th>2</th>\n      <td>0</td>\n      <td>0</td>\n    </tr>\n    <tr>\n      <th>3</th>\n      <td>0</td>\n      <td>0</td>\n    </tr>\n    <tr>\n      <th>4</th>\n      <td>1</td>\n      <td>1</td>\n    </tr>\n    <tr>\n      <th>...</th>\n      <td>...</td>\n      <td>...</td>\n    </tr>\n    <tr>\n      <th>8688</th>\n      <td>0</td>\n      <td>0</td>\n    </tr>\n    <tr>\n      <th>8689</th>\n      <td>0</td>\n      <td>0</td>\n    </tr>\n    <tr>\n      <th>8690</th>\n      <td>1</td>\n      <td>1</td>\n    </tr>\n    <tr>\n      <th>8691</th>\n      <td>0</td>\n      <td>0</td>\n    </tr>\n    <tr>\n      <th>8692</th>\n      <td>1</td>\n      <td>1</td>\n    </tr>\n  </tbody>\n</table>\n<p>8693 rows × 2 columns</p>\n</div>"
     },
     "execution_count": 242,
     "metadata": {},
     "output_type": "execute_result"
    }
   ],
   "source": [
    "# Preparing predicted values\n",
    "predicted = clf_tree.predict(train_df)\n",
    "predicted = pd.DataFrame(predicted)\n",
    "predicted.columns=['Predicted']\n",
    "\n",
    "# Creating new DataFrame\n",
    "new_df = predicted.join(answers)\n",
    "new_df"
   ],
   "metadata": {
    "collapsed": false
   }
  },
  {
   "cell_type": "markdown",
   "source": [
    "### Parameters for DecisionTreeClassifier"
   ],
   "metadata": {
    "collapsed": false
   }
  },
  {
   "cell_type": "code",
   "execution_count": 243,
   "outputs": [
    {
     "name": "stdout",
     "output_type": "stream",
     "text": [
      "Correlation: 1.0\n",
      "Mean Squared Error: 0\n",
      "Accuracy: 100.0%\n",
      "Tree Depth: 1\n"
     ]
    },
    {
     "data": {
      "text/plain": "<Figure size 640x480 with 2 Axes>",
      "image/png": "[encoded data removed]"
     },
     "metadata": {},
     "output_type": "display_data"
    }
   ],
   "source": [
    "sns.heatmap(new_df.corr())\n",
    "print(f\"Correlation: {new_df.corr()['Predicted'][1]}\")\n",
    "mse = np.sum((answers - pd.Series(predicted['Predicted'])) ** 2)\n",
    "print(f\"Mean Squared Error: {np.sum((answers - pd.Series(predicted['Predicted'])) ** 2)}\")\n",
    "print(f\"Accuracy: {round(1 - mse / sum(answers.value_counts()), 5) * 100}%\")\n",
    "print(f\"Tree Depth: {clf_tree.get_depth()}\")"
   ],
   "metadata": {
    "collapsed": false
   }
  },
  {
   "cell_type": "markdown",
   "source": [
    "## Training DecisionTreeRegressor on our model"
   ],
   "metadata": {
    "collapsed": false
   }
  },
  {
   "cell_type": "code",
   "execution_count": 244,
   "outputs": [
    {
     "data": {
      "text/plain": "DecisionTreeRegressor(max_depth=30, random_state=17)",
      "text/html": "<style>#sk-container-id-7 {color: black;background-color: white;}#sk-container-id-7 pre{padding: 0;}#sk-container-id-7 div.sk-toggleable {background-color: white;}#sk-container-id-7 label.sk-toggleable__label {cursor: pointer;display: block;width: 100%;margin-bottom: 0;padding: 0.3em;box-sizing: border-box;text-align: center;}#sk-container-id-7 label.sk-toggleable__label-arrow:before {content: \"▸\";float: left;margin-right: 0.25em;color: #696969;}#sk-container-id-7 label.sk-toggleable__label-arrow:hover:before {color: black;}#sk-container-id-7 div.sk-estimator:hover label.sk-toggleable__label-arrow:before {color: black;}#sk-container-id-7 div.sk-toggleable__content {max-height: 0;max-width: 0;overflow: hidden;text-align: left;background-color: #f0f8ff;}#sk-container-id-7 div.sk-toggleable__content pre {margin: 0.2em;color: black;border-radius: 0.25em;background-color: #f0f8ff;}#sk-container-id-7 input.sk-toggleable__control:checked~div.sk-toggleable__content {max-height: 200px;max-width: 100%;overflow: auto;}#sk-container-id-7 input.sk-toggleable__control:checked~label.sk-toggleable__label-arrow:before {content: \"▾\";}#sk-container-id-7 div.sk-estimator input.sk-toggleable__control:checked~label.sk-toggleable__label {background-color: #d4ebff;}#sk-container-id-7 div.sk-label input.sk-toggleable__control:checked~label.sk-toggleable__label {background-color: #d4ebff;}#sk-container-id-7 input.sk-hidden--visually {border: 0;clip: rect(1px 1px 1px 1px);clip: rect(1px, 1px, 1px, 1px);height: 1px;margin: -1px;overflow: hidden;padding: 0;position: absolute;width: 1px;}#sk-container-id-7 div.sk-estimator {font-family: monospace;background-color: #f0f8ff;border: 1px dotted black;border-radius: 0.25em;box-sizing: border-box;margin-bottom: 0.5em;}#sk-container-id-7 div.sk-estimator:hover {background-color: #d4ebff;}#sk-container-id-7 div.sk-parallel-item::after {content: \"\";width: 100%;border-bottom: 1px solid gray;flex-grow: 1;}#sk-container-id-7 div.sk-label:hover label.sk-toggleable__label {background-color: #d4ebff;}#sk-container-id-7 div.sk-serial::before {content: \"\";position: absolute;border-left: 1px solid gray;box-sizing: border-box;top: 0;bottom: 0;left: 50%;z-index: 0;}#sk-container-id-7 div.sk-serial {display: flex;flex-direction: column;align-items: center;background-color: white;padding-right: 0.2em;padding-left: 0.2em;position: relative;}#sk-container-id-7 div.sk-item {position: relative;z-index: 1;}#sk-container-id-7 div.sk-parallel {display: flex;align-items: stretch;justify-content: center;background-color: white;position: relative;}#sk-container-id-7 div.sk-item::before, #sk-container-id-7 div.sk-parallel-item::before {content: \"\";position: absolute;border-left: 1px solid gray;box-sizing: border-box;top: 0;bottom: 0;left: 50%;z-index: -1;}#sk-container-id-7 div.sk-parallel-item {display: flex;flex-direction: column;z-index: 1;position: relative;background-color: white;}#sk-container-id-7 div.sk-parallel-item:first-child::after {align-self: flex-end;width: 50%;}#sk-container-id-7 div.sk-parallel-item:last-child::after {align-self: flex-start;width: 50%;}#sk-container-id-7 div.sk-parallel-item:only-child::after {width: 0;}#sk-container-id-7 div.sk-dashed-wrapped {border: 1px dashed gray;margin: 0 0.4em 0.5em 0.4em;box-sizing: border-box;padding-bottom: 0.4em;background-color: white;}#sk-container-id-7 div.sk-label label {font-family: monospace;font-weight: bold;display: inline-block;line-height: 1.2em;}#sk-container-id-7 div.sk-label-container {text-align: center;}#sk-container-id-7 div.sk-container {/* jupyter's `normalize.less` sets `[hidden] { display: none; }` but bootstrap.min.css set `[hidden] { display: none !important; }` so we also need the `!important` here to be able to override the default hidden behavior on the sphinx rendered scikit-learn.org. See: https://github.com/scikit-learn/scikit-learn/issues/21755 */display: inline-block !important;position: relative;}#sk-container-id-7 div.sk-text-repr-fallback {display: none;}</style><div id=\"sk-container-id-7\" class=\"sk-top-container\"><div class=\"sk-text-repr-fallback\"><pre>DecisionTreeRegressor(max_depth=30, random_state=17)</pre><b>In a Jupyter environment, please rerun this cell to show the HTML representation or trust the notebook. <br />On GitHub, the HTML representation is unable to render, please try loading this page with nbviewer.org.</b></div><div class=\"sk-container\" hidden><div class=\"sk-item\"><div class=\"sk-estimator sk-toggleable\"><input class=\"sk-toggleable__control sk-hidden--visually\" id=\"sk-estimator-id-7\" type=\"checkbox\" checked><label for=\"sk-estimator-id-7\" class=\"sk-toggleable__label sk-toggleable__label-arrow\">DecisionTreeRegressor</label><div class=\"sk-toggleable__content\"><pre>DecisionTreeRegressor(max_depth=30, random_state=17)</pre></div></div></div></div></div>"
     },
     "execution_count": 244,
     "metadata": {},
     "output_type": "execute_result"
    }
   ],
   "source": [
    "clf_tree_reg = DecisionTreeRegressor(max_depth=30, random_state=17)\n",
    "clf_tree_reg.fit(train_df, answers)"
   ],
   "metadata": {
    "collapsed": false
   }
  },
  {
   "cell_type": "code",
   "execution_count": 245,
   "outputs": [
    {
     "data": {
      "text/plain": "      Predicted  Transported\n0             0            0\n1             1            1\n2             0            0\n3             0            0\n4             1            1\n...         ...          ...\n8688          0            0\n8689          0            0\n8690          1            1\n8691          0            0\n8692          1            1\n\n[8693 rows x 2 columns]",
      "text/html": "<div>\n<style scoped>\n    .dataframe tbody tr th:only-of-type {\n        vertical-align: middle;\n    }\n\n    .dataframe tbody tr th {\n        vertical-align: top;\n    }\n\n    .dataframe thead th {\n        text-align: right;\n    }\n</style>\n<table border=\"1\" class=\"dataframe\">\n  <thead>\n    <tr style=\"text-align: right;\">\n      <th></th>\n      <th>Predicted</th>\n      <th>Transported</th>\n    </tr>\n  </thead>\n  <tbody>\n    <tr>\n      <th>0</th>\n      <td>0</td>\n      <td>0</td>\n    </tr>\n    <tr>\n      <th>1</th>\n      <td>1</td>\n      <td>1</td>\n    </tr>\n    <tr>\n      <th>2</th>\n      <td>0</td>\n      <td>0</td>\n    </tr>\n    <tr>\n      <th>3</th>\n      <td>0</td>\n      <td>0</td>\n    </tr>\n    <tr>\n      <th>4</th>\n      <td>1</td>\n      <td>1</td>\n    </tr>\n    <tr>\n      <th>...</th>\n      <td>...</td>\n      <td>...</td>\n    </tr>\n    <tr>\n      <th>8688</th>\n      <td>0</td>\n      <td>0</td>\n    </tr>\n    <tr>\n      <th>8689</th>\n      <td>0</td>\n      <td>0</td>\n    </tr>\n    <tr>\n      <th>8690</th>\n      <td>1</td>\n      <td>1</td>\n    </tr>\n    <tr>\n      <th>8691</th>\n      <td>0</td>\n      <td>0</td>\n    </tr>\n    <tr>\n      <th>8692</th>\n      <td>1</td>\n      <td>1</td>\n    </tr>\n  </tbody>\n</table>\n<p>8693 rows × 2 columns</p>\n</div>"
     },
     "execution_count": 245,
     "metadata": {},
     "output_type": "execute_result"
    }
   ],
   "source": [
    "# Preparing predicted values\n",
    "predicted = clf_tree_reg.predict(train_df)\n",
    "predicted = pd.DataFrame(predicted)\n",
    "predicted.columns=['Predicted']\n",
    "predicted['Predicted'] = predicted['Predicted'].apply(lambda x: round(x))\n",
    "\n",
    "# Creating new DataFrame\n",
    "new_df = predicted.join(answers)\n",
    "new_df"
   ],
   "metadata": {
    "collapsed": false
   }
  },
  {
   "cell_type": "markdown",
   "source": [
    "### Parameters for DecisionTreeRegressor\n"
   ],
   "metadata": {
    "collapsed": false
   }
  },
  {
   "cell_type": "code",
   "execution_count": 246,
   "outputs": [
    {
     "name": "stdout",
     "output_type": "stream",
     "text": [
      "Correlation: 1.0\n",
      "Mean Squared Error: 0\n",
      "Accuracy: 100.0%\n",
      "Tree Depth: 1\n"
     ]
    },
    {
     "data": {
      "text/plain": "<Figure size 640x480 with 2 Axes>",
      "image/png": "[encoded data removed]"
     },
     "metadata": {},
     "output_type": "display_data"
    }
   ],
   "source": [
    "sns.heatmap(new_df.corr())\n",
    "print(f\"Correlation: {new_df.corr()['Predicted'][1]}\")\n",
    "mse = np.sum((answers - pd.Series(predicted['Predicted'])) ** 2)\n",
    "print(f\"Mean Squared Error: {np.sum((answers - pd.Series(predicted['Predicted'])) ** 2)}\")\n",
    "print(f\"Accuracy: {round(1 - mse / sum(answers.value_counts()), 5) * 100}%\")\n",
    "print(f\"Tree Depth: {clf_tree_reg.get_depth()}\")"
   ],
   "metadata": {
    "collapsed": false
   }
  },
  {
   "cell_type": "markdown",
   "source": [
    "## Training kNN algorithm"
   ],
   "metadata": {
    "collapsed": false
   }
  },
  {
   "cell_type": "code",
   "execution_count": 247,
   "outputs": [
    {
     "name": "stdout",
     "output_type": "stream",
     "text": [
      "Accuracy: 80.548%\n"
     ]
    }
   ],
   "source": [
    "neigh = KNeighborsClassifier(n_neighbors=9)\n",
    "neigh.fit(train_df, answers)\n",
    "print(f\"Accuracy: {round(neigh.score(train_df, answers), 5) * 100}%\")"
   ],
   "metadata": {
    "collapsed": false
   }
  },
  {
   "cell_type": "code",
   "execution_count": 248,
   "outputs": [
    {
     "data": {
      "text/plain": "      Predicted  Transported\n0             1            0\n1             0            1\n2             0            0\n3             0            0\n4             0            1\n...         ...          ...\n8688          1            0\n8689          1            0\n8690          1            1\n8691          0            0\n8692          1            1\n\n[8693 rows x 2 columns]",
      "text/html": "<div>\n<style scoped>\n    .dataframe tbody tr th:only-of-type {\n        vertical-align: middle;\n    }\n\n    .dataframe tbody tr th {\n        vertical-align: top;\n    }\n\n    .dataframe thead th {\n        text-align: right;\n    }\n</style>\n<table border=\"1\" class=\"dataframe\">\n  <thead>\n    <tr style=\"text-align: right;\">\n      <th></th>\n      <th>Predicted</th>\n      <th>Transported</th>\n    </tr>\n  </thead>\n  <tbody>\n    <tr>\n      <th>0</th>\n      <td>1</td>\n      <td>0</td>\n    </tr>\n    <tr>\n      <th>1</th>\n      <td>0</td>\n      <td>1</td>\n    </tr>\n    <tr>\n      <th>2</th>\n      <td>0</td>\n      <td>0</td>\n    </tr>\n    <tr>\n      <th>3</th>\n      <td>0</td>\n      <td>0</td>\n    </tr>\n    <tr>\n      <th>4</th>\n      <td>0</td>\n      <td>1</td>\n    </tr>\n    <tr>\n      <th>...</th>\n      <td>...</td>\n      <td>...</td>\n    </tr>\n    <tr>\n      <th>8688</th>\n      <td>1</td>\n      <td>0</td>\n    </tr>\n    <tr>\n      <th>8689</th>\n      <td>1</td>\n      <td>0</td>\n    </tr>\n    <tr>\n      <th>8690</th>\n      <td>1</td>\n      <td>1</td>\n    </tr>\n    <tr>\n      <th>8691</th>\n      <td>0</td>\n      <td>0</td>\n    </tr>\n    <tr>\n      <th>8692</th>\n      <td>1</td>\n      <td>1</td>\n    </tr>\n  </tbody>\n</table>\n<p>8693 rows × 2 columns</p>\n</div>"
     },
     "execution_count": 248,
     "metadata": {},
     "output_type": "execute_result"
    }
   ],
   "source": [
    "# Preparing predicted values\n",
    "predicted = neigh.predict(train_df)\n",
    "predicted = pd.DataFrame(predicted)\n",
    "predicted.columns=['Predicted']\n",
    "\n",
    "# Creating new DataFrame\n",
    "new_df = predicted.join(answers)\n",
    "new_df"
   ],
   "metadata": {
    "collapsed": false
   }
  },
  {
   "cell_type": "markdown",
   "source": [
    "### Parameters for kNN\n"
   ],
   "metadata": {
    "collapsed": false
   }
  },
  {
   "cell_type": "code",
   "execution_count": 249,
   "outputs": [
    {
     "name": "stdout",
     "output_type": "stream",
     "text": [
      "Correlation: 0.6136803097107969\n",
      "Mean Squared Error: 1691\n",
      "Accuracy: 80.548%\n"
     ]
    },
    {
     "data": {
      "text/plain": "<Figure size 640x480 with 2 Axes>",
      "image/png": "[encoded data removed]"
     },
     "metadata": {},
     "output_type": "display_data"
    }
   ],
   "source": [
    "sns.heatmap(new_df.corr())\n",
    "print(f\"Correlation: {new_df.corr()['Predicted'][1]}\")\n",
    "mse = np.sum((answers - pd.Series(predicted['Predicted'])) ** 2)\n",
    "print(f\"Mean Squared Error: {np.sum((answers - pd.Series(predicted['Predicted'])) ** 2)}\")\n",
    "print(f\"Accuracy: {round(1 - mse / sum(answers.value_counts()), 5) * 100}%\")"
   ],
   "metadata": {
    "collapsed": false
   }
  },
  {
   "cell_type": "markdown",
   "source": [
    "## Training GradientBoostingClassifier"
   ],
   "metadata": {
    "collapsed": false
   }
  },
  {
   "cell_type": "code",
   "execution_count": 250,
   "outputs": [
    {
     "name": "stdout",
     "output_type": "stream",
     "text": [
      "Accuracy: 100.0%\n"
     ]
    }
   ],
   "source": [
    "clf = GradientBoostingClassifier(n_estimators=200, learning_rate=0.5,\n",
    "                                 max_depth=30, random_state=17)\n",
    "clf.fit(train_df, answers)\n",
    "print(f\"Accuracy: {round(clf.score(train_df, answers), 5) * 100}%\")"
   ],
   "metadata": {
    "collapsed": false
   }
  },
  {
   "cell_type": "code",
   "execution_count": 251,
   "outputs": [
    {
     "data": {
      "text/plain": "      Predicted  Transported\n0             0            0\n1             1            1\n2             0            0\n3             0            0\n4             1            1\n...         ...          ...\n8688          0            0\n8689          0            0\n8690          1            1\n8691          0            0\n8692          1            1\n\n[8693 rows x 2 columns]",
      "text/html": "<div>\n<style scoped>\n    .dataframe tbody tr th:only-of-type {\n        vertical-align: middle;\n    }\n\n    .dataframe tbody tr th {\n        vertical-align: top;\n    }\n\n    .dataframe thead th {\n        text-align: right;\n    }\n</style>\n<table border=\"1\" class=\"dataframe\">\n  <thead>\n    <tr style=\"text-align: right;\">\n      <th></th>\n      <th>Predicted</th>\n      <th>Transported</th>\n    </tr>\n  </thead>\n  <tbody>\n    <tr>\n      <th>0</th>\n      <td>0</td>\n      <td>0</td>\n    </tr>\n    <tr>\n      <th>1</th>\n      <td>1</td>\n      <td>1</td>\n    </tr>\n    <tr>\n      <th>2</th>\n      <td>0</td>\n      <td>0</td>\n    </tr>\n    <tr>\n      <th>3</th>\n      <td>0</td>\n      <td>0</td>\n    </tr>\n    <tr>\n      <th>4</th>\n      <td>1</td>\n      <td>1</td>\n    </tr>\n    <tr>\n      <th>...</th>\n      <td>...</td>\n      <td>...</td>\n    </tr>\n    <tr>\n      <th>8688</th>\n      <td>0</td>\n      <td>0</td>\n    </tr>\n    <tr>\n      <th>8689</th>\n      <td>0</td>\n      <td>0</td>\n    </tr>\n    <tr>\n      <th>8690</th>\n      <td>1</td>\n      <td>1</td>\n    </tr>\n    <tr>\n      <th>8691</th>\n      <td>0</td>\n      <td>0</td>\n    </tr>\n    <tr>\n      <th>8692</th>\n      <td>1</td>\n      <td>1</td>\n    </tr>\n  </tbody>\n</table>\n<p>8693 rows × 2 columns</p>\n</div>"
     },
     "execution_count": 251,
     "metadata": {},
     "output_type": "execute_result"
    }
   ],
   "source": [
    "# Preparing predicted values\n",
    "predicted = clf.predict(train_df)\n",
    "predicted = pd.DataFrame(predicted)\n",
    "predicted.columns=['Predicted']\n",
    "\n",
    "# Creating new DataFrame\n",
    "new_df = predicted.join(answers)\n",
    "new_df"
   ],
   "metadata": {
    "collapsed": false
   }
  },
  {
   "cell_type": "code",
   "execution_count": 252,
   "outputs": [
    {
     "name": "stdout",
     "output_type": "stream",
     "text": [
      "Correlation: 1.0\n",
      "Mean Squared Error: 0\n",
      "Accuracy: 100.0%\n"
     ]
    },
    {
     "data": {
      "text/plain": "<Figure size 640x480 with 2 Axes>",
      "image/png": "[encoded data removed]"
     },
     "metadata": {},
     "output_type": "display_data"
    }
   ],
   "source": [
    "sns.heatmap(new_df.corr())\n",
    "print(f\"Correlation: {new_df.corr()['Predicted'][1]}\")\n",
    "mse = np.sum((answers - pd.Series(predicted['Predicted'])) ** 2)\n",
    "print(f\"Mean Squared Error: {np.sum((answers - pd.Series(predicted['Predicted'])) ** 2)}\")\n",
    "print(f\"Accuracy: {round(1 - mse / sum(answers.value_counts()), 5) * 100}%\")"
   ],
   "metadata": {
    "collapsed": false
   }
  },
  {
   "cell_type": "markdown",
   "source": [
    "## Importing Test DataSet"
   ],
   "metadata": {
    "collapsed": false
   }
  },
  {
   "cell_type": "code",
   "execution_count": 254,
   "outputs": [
    {
     "data": {
      "text/plain": "     PassengerId HomePlanet CryoSleep    Destination   Age    VIP  \\\n0        0013_01      Earth      True    TRAPPIST-1e  27.0  False   \n1        0018_01      Earth     False    TRAPPIST-1e  19.0  False   \n2        0019_01     Europa      True    55 Cancri e  31.0  False   \n3        0021_01     Europa     False    TRAPPIST-1e  38.0  False   \n4        0023_01      Earth     False    TRAPPIST-1e  20.0  False   \n...          ...        ...       ...            ...   ...    ...   \n4272     9266_02      Earth      True    TRAPPIST-1e  34.0  False   \n4273     9269_01      Earth     False    TRAPPIST-1e  42.0  False   \n4274     9271_01       Mars      True    55 Cancri e   NaN  False   \n4275     9273_01     Europa     False            NaN   NaN  False   \n4276     9277_01      Earth      True  PSO J318.5-22  43.0  False   \n\n      RoomService  FoodCourt  ShoppingMall     Spa  VRDeck              Name  \\\n0             0.0        0.0           0.0     0.0     0.0   Nelly Carsoning   \n1             0.0        9.0           0.0  2823.0     0.0    Lerome Peckers   \n2             0.0        0.0           0.0     0.0     0.0   Sabih Unhearfus   \n3             0.0     6652.0           0.0   181.0   585.0  Meratz Caltilter   \n4            10.0        0.0         635.0     0.0     0.0   Brence Harperez   \n...           ...        ...           ...     ...     ...               ...   \n4272          0.0        0.0           0.0     0.0     0.0       Jeron Peter   \n4273          0.0      847.0          17.0    10.0   144.0     Matty Scheron   \n4274          0.0        0.0           0.0     0.0     0.0       Jayrin Pore   \n4275          0.0     2680.0           0.0     0.0   523.0    Kitakan Conale   \n4276          0.0        0.0           0.0     0.0     0.0  Lilace Leonzaley   \n\n     Cab1  Cab2 Cab3  \n0       G     3    S  \n1       F     4    S  \n2       C     0    S  \n3       C     1    S  \n4       F     5    S  \n...   ...   ...  ...  \n4272    G  1496    S  \n4273    D   296    P  \n4274    D   296    P  \n4275    D   297    P  \n4276    G  1498    S  \n\n[4277 rows x 15 columns]",
      "text/html": "<div>\n<style scoped>\n    .dataframe tbody tr th:only-of-type {\n        vertical-align: middle;\n    }\n\n    .dataframe tbody tr th {\n        vertical-align: top;\n    }\n\n    .dataframe thead th {\n        text-align: right;\n    }\n</style>\n<table border=\"1\" class=\"dataframe\">\n  <thead>\n    <tr style=\"text-align: right;\">\n      <th></th>\n      <th>PassengerId</th>\n      <th>HomePlanet</th>\n      <th>CryoSleep</th>\n      <th>Destination</th>\n      <th>Age</th>\n      <th>VIP</th>\n      <th>RoomService</th>\n      <th>FoodCourt</th>\n      <th>ShoppingMall</th>\n      <th>Spa</th>\n      <th>VRDeck</th>\n      <th>Name</th>\n      <th>Cab1</th>\n      <th>Cab2</th>\n      <th>Cab3</th>\n    </tr>\n  </thead>\n  <tbody>\n    <tr>\n      <th>0</th>\n      <td>0013_01</td>\n      <td>Earth</td>\n      <td>True</td>\n      <td>TRAPPIST-1e</td>\n      <td>27.0</td>\n      <td>False</td>\n      <td>0.0</td>\n      <td>0.0</td>\n      <td>0.0</td>\n      <td>0.0</td>\n      <td>0.0</td>\n      <td>Nelly Carsoning</td>\n      <td>G</td>\n      <td>3</td>\n      <td>S</td>\n    </tr>\n    <tr>\n      <th>1</th>\n      <td>0018_01</td>\n      <td>Earth</td>\n      <td>False</td>\n      <td>TRAPPIST-1e</td>\n      <td>19.0</td>\n      <td>False</td>\n      <td>0.0</td>\n      <td>9.0</td>\n      <td>0.0</td>\n      <td>2823.0</td>\n      <td>0.0</td>\n      <td>Lerome Peckers</td>\n      <td>F</td>\n      <td>4</td>\n      <td>S</td>\n    </tr>\n    <tr>\n      <th>2</th>\n      <td>0019_01</td>\n      <td>Europa</td>\n      <td>True</td>\n      <td>55 Cancri e</td>\n      <td>31.0</td>\n      <td>False</td>\n      <td>0.0</td>\n      <td>0.0</td>\n      <td>0.0</td>\n      <td>0.0</td>\n      <td>0.0</td>\n      <td>Sabih Unhearfus</td>\n      <td>C</td>\n      <td>0</td>\n      <td>S</td>\n    </tr>\n    <tr>\n      <th>3</th>\n      <td>0021_01</td>\n      <td>Europa</td>\n      <td>False</td>\n      <td>TRAPPIST-1e</td>\n      <td>38.0</td>\n      <td>False</td>\n      <td>0.0</td>\n      <td>6652.0</td>\n      <td>0.0</td>\n      <td>181.0</td>\n      <td>585.0</td>\n      <td>Meratz Caltilter</td>\n      <td>C</td>\n      <td>1</td>\n      <td>S</td>\n    </tr>\n    <tr>\n      <th>4</th>\n      <td>0023_01</td>\n      <td>Earth</td>\n      <td>False</td>\n      <td>TRAPPIST-1e</td>\n      <td>20.0</td>\n      <td>False</td>\n      <td>10.0</td>\n      <td>0.0</td>\n      <td>635.0</td>\n      <td>0.0</td>\n      <td>0.0</td>\n      <td>Brence Harperez</td>\n      <td>F</td>\n      <td>5</td>\n      <td>S</td>\n    </tr>\n    <tr>\n      <th>...</th>\n      <td>...</td>\n      <td>...</td>\n      <td>...</td>\n      <td>...</td>\n      <td>...</td>\n      <td>...</td>\n      <td>...</td>\n      <td>...</td>\n      <td>...</td>\n      <td>...</td>\n      <td>...</td>\n      <td>...</td>\n      <td>...</td>\n      <td>...</td>\n      <td>...</td>\n    </tr>\n    <tr>\n      <th>4272</th>\n      <td>9266_02</td>\n      <td>Earth</td>\n      <td>True</td>\n      <td>TRAPPIST-1e</td>\n      <td>34.0</td>\n      <td>False</td>\n      <td>0.0</td>\n      <td>0.0</td>\n      <td>0.0</td>\n      <td>0.0</td>\n      <td>0.0</td>\n      <td>Jeron Peter</td>\n      <td>G</td>\n      <td>1496</td>\n      <td>S</td>\n    </tr>\n    <tr>\n      <th>4273</th>\n      <td>9269_01</td>\n      <td>Earth</td>\n      <td>False</td>\n      <td>TRAPPIST-1e</td>\n      <td>42.0</td>\n      <td>False</td>\n      <td>0.0</td>\n      <td>847.0</td>\n      <td>17.0</td>\n      <td>10.0</td>\n      <td>144.0</td>\n      <td>Matty Scheron</td>\n      <td>D</td>\n      <td>296</td>\n      <td>P</td>\n    </tr>\n    <tr>\n      <th>4274</th>\n      <td>9271_01</td>\n      <td>Mars</td>\n      <td>True</td>\n      <td>55 Cancri e</td>\n      <td>NaN</td>\n      <td>False</td>\n      <td>0.0</td>\n      <td>0.0</td>\n      <td>0.0</td>\n      <td>0.0</td>\n      <td>0.0</td>\n      <td>Jayrin Pore</td>\n      <td>D</td>\n      <td>296</td>\n      <td>P</td>\n    </tr>\n    <tr>\n      <th>4275</th>\n      <td>9273_01</td>\n      <td>Europa</td>\n      <td>False</td>\n      <td>NaN</td>\n      <td>NaN</td>\n      <td>False</td>\n      <td>0.0</td>\n      <td>2680.0</td>\n      <td>0.0</td>\n      <td>0.0</td>\n      <td>523.0</td>\n      <td>Kitakan Conale</td>\n      <td>D</td>\n      <td>297</td>\n      <td>P</td>\n    </tr>\n    <tr>\n      <th>4276</th>\n      <td>9277_01</td>\n      <td>Earth</td>\n      <td>True</td>\n      <td>PSO J318.5-22</td>\n      <td>43.0</td>\n      <td>False</td>\n      <td>0.0</td>\n      <td>0.0</td>\n      <td>0.0</td>\n      <td>0.0</td>\n      <td>0.0</td>\n      <td>Lilace Leonzaley</td>\n      <td>G</td>\n      <td>1498</td>\n      <td>S</td>\n    </tr>\n  </tbody>\n</table>\n<p>4277 rows × 15 columns</p>\n</div>"
     },
     "execution_count": 254,
     "metadata": {},
     "output_type": "execute_result"
    }
   ],
   "source": [
    "temporary_df = pd.read_csv('datasets/spaceship/test.csv')\n",
    "test_df\n",
    "#test_df = test_df.join(temporary_df['PassengerId'])"
   ],
   "metadata": {
    "collapsed": false
   }
  },
  {
   "cell_type": "code",
   "execution_count": null,
   "outputs": [],
   "source": [
    "test_df_ids = test_df['PassengerId']\n",
    "# test_df = test_df.drop(columns=['PassengerId', 'FoodCourt', 'ShoppingMall', 'Spa',\n",
    "#                             'Name', 'RoomService', 'VRDeck', 'Cabin'])\n",
    "test_df = test_df.drop(columns=['PassengerId', 'Name'])\n",
    "\n",
    "test_df"
   ],
   "metadata": {
    "collapsed": false
   }
  },
  {
   "cell_type": "markdown",
   "source": [
    "## Encoding object values"
   ],
   "metadata": {
    "collapsed": false
   }
  },
  {
   "cell_type": "code",
   "execution_count": null,
   "outputs": [],
   "source": [
    "label_encoder = LabelEncoder()\n",
    "test_df['HomePlanet'] = label_encoder.fit_transform(test_df['HomePlanet'])\n",
    "test_df['Destination'] = label_encoder.fit_transform(test_df['Destination'])\n",
    "test_df['Cab1'] = label_encoder.fit_transform(test_df['Cab1'])\n",
    "test_df['Cab2'] = label_encoder.fit_transform(test_df['Cab2'])\n",
    "test_df['Cab3'] = label_encoder.fit_transform(test_df['Cab3'])"
   ],
   "metadata": {
    "collapsed": false
   }
  },
  {
   "cell_type": "markdown",
   "source": [
    "## Replacing NaN values using sklearn.SimpleImputer"
   ],
   "metadata": {
    "collapsed": false
   }
  },
  {
   "cell_type": "code",
   "execution_count": null,
   "outputs": [],
   "source": [
    "# Saving column names\n",
    "names = list(test_df.columns)\n",
    "\n",
    "# Training imputing model\n",
    "imp_mean = SimpleImputer(strategy='mean')\n",
    "imp_mean.fit(test_df)\n",
    "\n",
    "# Replacing Nan values\n",
    "test_df = pd.DataFrame(imp_mean.transform(test_df))\n",
    "\n",
    "# Giving columns their names back\n",
    "test_df.columns = names\n",
    "test_df.to_csv(path_or_buf='datasets/spaceship/temp/final_test.csv')\n",
    "test_df"
   ],
   "metadata": {
    "collapsed": false
   }
  },
  {
   "cell_type": "markdown",
   "source": [
    "## Trying different model on test DataSet"
   ],
   "metadata": {
    "collapsed": false
   }
  },
  {
   "cell_type": "code",
   "execution_count": null,
   "outputs": [],
   "source": [
    "ans1 = pd.DataFrame(clf_tree.predict(test_df))\n",
    "ans1.columns=['Transported']\n",
    "ans1 = ans1['Transported'].map({1: True, 0: False})\n",
    "ans1 = pd.DataFrame(test_df_ids).join(ans1)\n",
    "ans1 = ans1.set_index(\"PassengerId\")\n",
    "ans1.to_csv(path_or_buf='datasets/spaceship/answers/clf_tree.csv')"
   ],
   "metadata": {
    "collapsed": false
   }
  },
  {
   "cell_type": "code",
   "execution_count": null,
   "outputs": [],
   "source": [
    "ans2 = pd.DataFrame(clf.predict(test_df))\n",
    "ans2.columns=['Transported']\n",
    "ans2 = ans2['Transported'].map({1: True, 0: False})\n",
    "ans2 = pd.DataFrame(test_df_ids).join(ans2)\n",
    "ans2 = ans2.set_index(\"PassengerId\")\n",
    "ans2.to_csv(path_or_buf='datasets/spaceship/answers/gradient_boosting.csv')"
   ],
   "metadata": {
    "collapsed": false
   }
  },
  {
   "cell_type": "code",
   "execution_count": null,
   "outputs": [],
   "source": [],
   "metadata": {
    "collapsed": false
   }
  },
  {
   "cell_type": "markdown",
   "source": [
    "### Testing kNN parametrs"
   ],
   "metadata": {
    "collapsed": false
   }
  },
  {
   "cell_type": "code",
   "execution_count": null,
   "outputs": [],
   "source": [
    "train_df"
   ],
   "metadata": {
    "collapsed": false
   }
  },
  {
   "cell_type": "code",
   "execution_count": null,
   "outputs": [],
   "source": [
    "algo = ['ball_tree', 'kd_tree', 'brute']\n",
    "maxx = 0\n",
    "metric = ['cityblock', 'euclidean', 'manhattan']\n",
    "for i in range(35,100):\n",
    "    for j in range(100, 150):\n",
    "        for k in algo:\n",
    "            for l in metric:\n",
    "                knn = KNeighborsClassifier(n_neighbors=i, algorithm=k, leaf_size=j,n_jobs=-1, weights = 'distance', metric=l)\n",
    "                knn.fit(train_df, answers)\n",
    "                test = pd.DataFrame(knn.predict(train_df))\n",
    "                test = test.join(answers)\n",
    "                if maxx < (1 - metrics.mean_squared_error(test[0],test.Transported)):\n",
    "                    print(1 - metrics.mean_squared_error(test[0],test.Transported), 'i =', i, 'j =', j, 'algo:', k, 'metrics:', l)\n",
    "                    maxx = 1 - metrics.mean_squared_error(test[0],test.Transported)"
   ],
   "metadata": {
    "collapsed": false
   }
  }
 ],
 "metadata": {
  "kernelspec": {
   "display_name": "Python 3",
   "language": "python",
   "name": "python3"
  },
  "language_info": {
   "codemirror_mode": {
    "name": "ipython",
    "version": 2
   },
   "file_extension": ".py",
   "mimetype": "text/x-python",
   "name": "python",
   "nbconvert_exporter": "python",
   "pygments_lexer": "ipython2",
   "version": "2.7.6"
  }
 },
 "nbformat": 4,
 "nbformat_minor": 0
}
