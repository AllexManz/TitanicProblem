{
 "cells": [
  {
   "cell_type": "code",
   "execution_count": 45,
   "metadata": {
    "collapsed": true
   },
   "outputs": [],
   "source": [
    "import pandas as pd"
   ]
  },
  {
   "cell_type": "code",
   "execution_count": 46,
   "outputs": [
    {
     "data": {
      "text/plain": "0          G/3/S\n1          F/4/S\n2          C/0/S\n3          C/1/S\n4          F/5/S\n          ...   \n4272    G/1496/S\n4273         NaN\n4274     D/296/P\n4275     D/297/P\n4276    G/1498/S\nName: Cabin, Length: 4277, dtype: object"
     },
     "execution_count": 46,
     "metadata": {},
     "output_type": "execute_result"
    }
   ],
   "source": [
    "df = pd.read_csv('datasets/spaceship/test.csv')\n",
    "cabin = df['Cabin']\n",
    "cabin"
   ],
   "metadata": {
    "collapsed": false
   }
  },
  {
   "cell_type": "code",
   "execution_count": 47,
   "outputs": [
    {
     "data": {
      "text/plain": "0          [G, 3, S]\n1          [F, 4, S]\n2          [C, 0, S]\n3          [C, 1, S]\n4          [F, 5, S]\n            ...     \n4272    [G, 1496, S]\n4273     [D, 296, P]\n4274     [D, 296, P]\n4275     [D, 297, P]\n4276    [G, 1498, S]\nName: Cabin, Length: 4277, dtype: object"
     },
     "execution_count": 47,
     "metadata": {},
     "output_type": "execute_result"
    }
   ],
   "source": [
    "cabin = cabin.fillna(method='backfill')\n",
    "cabin = cabin.apply(lambda x: x.split('/'))\n",
    "cabin"
   ],
   "metadata": {
    "collapsed": false
   }
  },
  {
   "cell_type": "code",
   "execution_count": 48,
   "outputs": [],
   "source": [
    "cab1, cab2, cab3 = [], [], []\n",
    "for i in cabin:\n",
    "    cab1 += [i[0]]\n",
    "    cab2 += [i[1]]\n",
    "    cab3 += [i[2]]\n",
    "\n",
    "cab1 = pd.DataFrame(cab1, columns=['Cab1'])\n",
    "cab2 = pd.DataFrame(cab2, columns=['Cab2'])\n",
    "cab3 = pd.DataFrame(cab3, columns=['Cab3'])"
   ],
   "metadata": {
    "collapsed": false
   }
  },
  {
   "cell_type": "code",
   "execution_count": 49,
   "outputs": [],
   "source": [
    "new_df = df.drop(columns=['Cabin'])\n",
    "new_df = new_df.join(cab1)\n",
    "new_df = new_df.join(cab2)\n",
    "new_df = new_df.join(cab3)\n",
    "new_df.to_csv(path_or_buf='datasets/spaceship/temp/test_cabin.csv')"
   ],
   "metadata": {
    "collapsed": false
   }
  }
 ],
 "metadata": {
  "kernelspec": {
   "display_name": "Python 3",
   "language": "python",
   "name": "python3"
  },
  "language_info": {
   "codemirror_mode": {
    "name": "ipython",
    "version": 2
   },
   "file_extension": ".py",
   "mimetype": "text/x-python",
   "name": "python",
   "nbconvert_exporter": "python",
   "pygments_lexer": "ipython2",
   "version": "2.7.6"
  }
 },
 "nbformat": 4,
 "nbformat_minor": 0
}
